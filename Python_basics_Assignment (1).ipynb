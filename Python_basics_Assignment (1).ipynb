{
  "nbformat": 4,
  "nbformat_minor": 0,
  "metadata": {
    "colab": {
      "provenance": []
    },
    "kernelspec": {
      "name": "python3",
      "display_name": "Python 3"
    },
    "language_info": {
      "name": "python"
    }
  },
  "cells": [
    {
      "cell_type": "markdown",
      "source": [
        "# PYTHON ASSIGNMENT MODULE-2\n",
        "\n",
        " 1. What is Python, and why is it popular ?\n",
        "    - python is a high level programming language and python is popular because it is easy to understand and has vast variety of libraries which help programmer to write the code\n",
        " 2. What is an interpreter in Python ?\n",
        "    - it translate each line into machine code that computer understand\n",
        "    - it read the program and executes code line by line\n",
        " 3. What are pre-defined keywords in Python ?\n",
        "    - in python pre-define keywords have the specific meaning we cannot use them as variable name or identifiers\n",
        "    - Example - if,if-else,else-if,import,def,return,etc these are predefined keywords\n",
        " 4. Can keywords be used as variable names ?\n",
        "    - NO, keywords cannot be used as variable names in python. if we try to use them as variable name interpreter get confused whether you are assigning it as keyword or using for special purpose"
      ],
      "metadata": {
        "id": "60VIwixh9pwc"
      }
    },
    {
      "cell_type": "code",
      "execution_count": null,
      "metadata": {
        "id": "J-VZfgzF9RbT",
        "colab": {
          "base_uri": "https://localhost:8080/",
          "height": 106
        },
        "outputId": "804e1da9-3d7e-4206-c3e1-70d6ae74826a"
      },
      "outputs": [
        {
          "output_type": "error",
          "ename": "SyntaxError",
          "evalue": "invalid syntax (ipython-input-2856489361.py, line 2)",
          "traceback": [
            "\u001b[0;36m  File \u001b[0;32m\"/tmp/ipython-input-2856489361.py\"\u001b[0;36m, line \u001b[0;32m2\u001b[0m\n\u001b[0;31m    if = 4\u001b[0m\n\u001b[0m       ^\u001b[0m\n\u001b[0;31mSyntaxError\u001b[0m\u001b[0;31m:\u001b[0m invalid syntax\n"
          ]
        }
      ],
      "source": [
        "# example for Question 4\n",
        "if = 4\n",
        "\n",
        "# here we cannot use if as an variable because it is a keyword and showing error if we use it as variable"
      ]
    },
    {
      "cell_type": "markdown",
      "source": [
        "5. What is mutability in Python ?\n",
        " -  mutability refers to when we the value of object can be change after it's ceation is known as mutability.\n",
        " - mutable objects are : list,dictionary,set."
      ],
      "metadata": {
        "id": "bPTy9Pq9E_gt"
      }
    },
    {
      "cell_type": "code",
      "source": [
        "# Example of question 5\n",
        "list_1 = [1,2,3,4]\n",
        "list_1.append(5)\n",
        "print(list_1)\n",
        "# here we can se that after defining the object we add the elements in object"
      ],
      "metadata": {
        "colab": {
          "base_uri": "https://localhost:8080/"
        },
        "id": "Jk0Rny3PFnLt",
        "outputId": "2dfcebc0-3d29-42db-f30b-b26dc9168be3"
      },
      "execution_count": null,
      "outputs": [
        {
          "output_type": "stream",
          "name": "stdout",
          "text": [
            "[1, 2, 3, 4, 5]\n"
          ]
        }
      ]
    },
    {
      "cell_type": "markdown",
      "source": [
        "6. Why are lists mutable, but tuples are immutable ?\n",
        "  - list are mutable because they are design to store collection of data which often change over time  \n",
        "  - tuples are immutable because they are designed to store fix collection of items"
      ],
      "metadata": {
        "id": "OeWs3BjPGwXB"
      }
    },
    {
      "cell_type": "markdown",
      "source": [
        "7. What is the difference between “==” and “is” operators in Python ?\n",
        "   - == -> is used to compare the values of two objects .\n",
        "   -'is'-> this operator is used to check if both variables point to the exact same obeject in the memory."
      ],
      "metadata": {
        "id": "AN-HNWRG96N8"
      }
    },
    {
      "cell_type": "code",
      "source": [
        "#example of question 7\n",
        "#(==)\n",
        "a = 15\n",
        "b = 15\n",
        "if a == b :\n",
        "  print(\"both values are same\")\n",
        "#(is)\n",
        "a = 122\n",
        "b = 133\n",
        "c = a is b # here we can see that is shows false as the value of a and b is not same otherwise if values are same it shows true\n",
        "print(c)"
      ],
      "metadata": {
        "colab": {
          "base_uri": "https://localhost:8080/"
        },
        "id": "fIPWvNdq_ElC",
        "outputId": "5d3812f8-cc20-46cd-e910-a14f8424fd74"
      },
      "execution_count": null,
      "outputs": [
        {
          "output_type": "stream",
          "name": "stdout",
          "text": [
            "both values are same\n",
            "False\n"
          ]
        }
      ]
    },
    {
      "cell_type": "markdown",
      "source": [
        "8. What are logical operators in Python ?\n",
        "  - AND,OR,NOT are the logicl operators\n",
        "  - AND-> return true if both conditions are  true\n",
        "  - OR-> returns true if at least one conditon is true\n",
        "  - NOT-> reverse the boolean values (true->false , false->true)"
      ],
      "metadata": {
        "id": "daB8miagA8y3"
      }
    },
    {
      "cell_type": "markdown",
      "source": [
        "9. What is type casting in Python ?\n",
        "  - type casting in python means converting a value from one data type to another.\n",
        "  - we can change integer to float etc.\n",
        "  - it is of two types implicit type casting and explicit type casting.\n"
      ],
      "metadata": {
        "id": "VOEdeXLDCFbV"
      }
    },
    {
      "cell_type": "code",
      "source": [
        "#example for question 9\n",
        "#impicit\n",
        "a=15\n",
        "b=12.4\n",
        "c=a+b\n",
        "print(c)\n",
        "#explicit\n",
        "x = 34.44\n",
        "y = int(x)\n",
        "print(y)\n"
      ],
      "metadata": {
        "colab": {
          "base_uri": "https://localhost:8080/"
        },
        "id": "RPihFa8xCxt-",
        "outputId": "8f6b4e2f-d4dd-48d8-f744-975054e2d632"
      },
      "execution_count": null,
      "outputs": [
        {
          "output_type": "stream",
          "name": "stdout",
          "text": [
            "27.4\n",
            "34\n"
          ]
        }
      ]
    },
    {
      "cell_type": "markdown",
      "source": [
        "10. What is the difference between implicit and explicit type casting ?\n",
        " - implicit -> python does it automatically by themselves.\n",
        " - explicit -> we change the type of data type by using casting functions.\n",
        "  "
      ],
      "metadata": {
        "id": "S52fmyV-FGKn"
      }
    },
    {
      "cell_type": "code",
      "source": [
        "#impicit\n",
        "a=15\n",
        "b=12.4\n",
        "c=a+b\n",
        "print(c)\n",
        "#explicit\n",
        "x = 34.44\n",
        "y = int(x)\n",
        "print(y)\n"
      ],
      "metadata": {
        "colab": {
          "base_uri": "https://localhost:8080/"
        },
        "id": "mKCQlMe8GJvf",
        "outputId": "f957b337-1228-4973-bb41-f69824164a4f"
      },
      "execution_count": null,
      "outputs": [
        {
          "output_type": "stream",
          "name": "stdout",
          "text": [
            "27.4\n",
            "34\n"
          ]
        }
      ]
    },
    {
      "cell_type": "markdown",
      "source": [
        "11. What is the purpose of conditional statements in Python ?\n",
        "- conditional statements is used to make decesions and run  different code depending on wether a condition is true or false .\n",
        "- we use these statements to control the flow of program.\n"
      ],
      "metadata": {
        "id": "TOPr_r3NGUVB"
      }
    },
    {
      "cell_type": "markdown",
      "source": [
        "12. How does the elif statement work ?\n",
        "-  elif let us check multiple conditions one after another.\n"
      ],
      "metadata": {
        "id": "4ncqN164HFqb"
      }
    },
    {
      "cell_type": "code",
      "source": [
        "#example for question 12\n",
        "marks = 78\n",
        "if marks >= 90:\n",
        " print(\"Grade A\")\n",
        "elif marks >=80:\n",
        "  print(\"Grade B\")\n",
        "else :\n",
        "  print(\"Okay Grade\")"
      ],
      "metadata": {
        "colab": {
          "base_uri": "https://localhost:8080/"
        },
        "id": "0U5cKSUoHa0f",
        "outputId": "1e81392d-d4d9-4b1e-a695-756f177d3dee"
      },
      "execution_count": null,
      "outputs": [
        {
          "output_type": "stream",
          "name": "stdout",
          "text": [
            "Okay Grade\n"
          ]
        }
      ]
    },
    {
      "cell_type": "markdown",
      "source": [
        "13. What is the difference between for and while loops ?\n",
        "  - For loop -> used when you know how many times to repeat the condition .\n",
        "  - while loop -> used when you don't know exactly how many times to repeat conditions . loop continues until a condition is false\n"
      ],
      "metadata": {
        "id": "t5HmsFljISiJ"
      }
    },
    {
      "cell_type": "markdown",
      "source": [
        "14. Describe a scenario where a while loop is more suitable than a for loop ?\n",
        "- in the puzzle game we use while loop untli we clear the puzzle we cannot get the new puzzle . in the game we don't know how many times we have to run the game .  "
      ],
      "metadata": {
        "id": "1ZC-a4A-JXEy"
      }
    },
    {
      "cell_type": "markdown",
      "source": [
        "# Problem Questions"
      ],
      "metadata": {
        "id": "0-kD1fyQLMmw"
      }
    },
    {
      "cell_type": "code",
      "source": [
        "# 1.Write a Python program to print \"Hello, World!?\n",
        "my_hi = \"Hello World!\"\n",
        "print(my_hi)"
      ],
      "metadata": {
        "colab": {
          "base_uri": "https://localhost:8080/"
        },
        "id": "qmMXj-TQLYod",
        "outputId": "87245333-41c9-46f5-c534-81275eea21b1"
      },
      "execution_count": null,
      "outputs": [
        {
          "output_type": "stream",
          "name": "stdout",
          "text": [
            "Hello World!\n"
          ]
        }
      ]
    },
    {
      "cell_type": "code",
      "source": [
        "# 2.Write a Python program that displays your name and age ?\n",
        "Age = 21\n",
        "Name = 'Vaibhav'\n",
        "print(f\" my name is {Name} and age is {Age}\")"
      ],
      "metadata": {
        "colab": {
          "base_uri": "https://localhost:8080/"
        },
        "id": "R2gAT8MZLpUW",
        "outputId": "c850a13d-88ec-42b9-e6bc-4553fae6146f"
      },
      "execution_count": null,
      "outputs": [
        {
          "output_type": "stream",
          "name": "stdout",
          "text": [
            " my name is Vaibhav and age is 21\n"
          ]
        }
      ]
    },
    {
      "cell_type": "code",
      "source": [
        "# 3.Write code to print all the pre-defined keywords in Python using the keyword library ?\n",
        "import keyword\n",
        "print(keyword.kwlist)\n"
      ],
      "metadata": {
        "colab": {
          "base_uri": "https://localhost:8080/"
        },
        "id": "jjWpvCvHMko2",
        "outputId": "ccb93ca6-911c-42c8-b0cd-cb3a9dc87f3e"
      },
      "execution_count": null,
      "outputs": [
        {
          "output_type": "stream",
          "name": "stdout",
          "text": [
            "['False', 'None', 'True', 'and', 'as', 'assert', 'async', 'await', 'break', 'class', 'continue', 'def', 'del', 'elif', 'else', 'except', 'finally', 'for', 'from', 'global', 'if', 'import', 'in', 'is', 'lambda', 'nonlocal', 'not', 'or', 'pass', 'raise', 'return', 'try', 'while', 'with', 'yield']\n"
          ]
        }
      ]
    },
    {
      "cell_type": "code",
      "source": [
        "# 4. Write a program that checks if a given word is a Python keyword ?\n",
        "import keyword\n",
        "word = input(\"Enter a word: \")\n",
        "if keyword.iskeyword(word):\n",
        "  print(f\"'{word}' is a python keyword.\")\n",
        "else :\n",
        "  print(f\"'{word}' is not a python keyword.\"')"
      ],
      "metadata": {
        "id": "b_38W5GvNPFf",
        "colab": {
          "base_uri": "https://localhost:8080/"
        },
        "outputId": "1dfcad7c-5006-4f60-93f2-5b049636a15f"
      },
      "execution_count": 6,
      "outputs": [
        {
          "output_type": "stream",
          "name": "stdout",
          "text": [
            "Enter a word: for\n",
            "'for' is a python keyword.\n"
          ]
        }
      ]
    },
    {
      "cell_type": "markdown",
      "source": [],
      "metadata": {
        "id": "CU6Uk9Z5GA6_"
      }
    },
    {
      "cell_type": "code",
      "source": [
        "# 5.Create a list and tuple in Python, and demonstrate how attempting to change an element works differently for each ?\n",
        "list = [3,4,6,7]\n",
        "print(\"original list :\",list)\n",
        "tuple = (1,9,3,4)\n",
        "print(\"original tuple :\",tuple)\n",
        "list[0] = 1\n",
        "print(\"after changing : \",list)\n",
        "tuple[0] = 5\n",
        "print(\"after changing :\",tuple)\n",
        "\n",
        "\n",
        "# as we know tuples are immutable we cannot change the value it shows error after assigning once but in list we can chage the values after creating them"
      ],
      "metadata": {
        "colab": {
          "base_uri": "https://localhost:8080/",
          "height": 245
        },
        "id": "ZDUd-n6OOYWx",
        "outputId": "ed53229e-f44f-4cd0-f933-3afd914f7bfe"
      },
      "execution_count": null,
      "outputs": [
        {
          "output_type": "stream",
          "name": "stdout",
          "text": [
            "original list : [3, 4, 6, 7]\n",
            "original tuple : (1, 9, 3, 4)\n",
            "after changing :  [1, 4, 6, 7]\n"
          ]
        },
        {
          "output_type": "error",
          "ename": "TypeError",
          "evalue": "'tuple' object does not support item assignment",
          "traceback": [
            "\u001b[0;31m---------------------------------------------------------------------------\u001b[0m",
            "\u001b[0;31mTypeError\u001b[0m                                 Traceback (most recent call last)",
            "\u001b[0;32m/tmp/ipython-input-3398153584.py\u001b[0m in \u001b[0;36m<cell line: 0>\u001b[0;34m()\u001b[0m\n\u001b[1;32m      6\u001b[0m \u001b[0mlist\u001b[0m\u001b[0;34m[\u001b[0m\u001b[0;36m0\u001b[0m\u001b[0;34m]\u001b[0m \u001b[0;34m=\u001b[0m \u001b[0;36m1\u001b[0m\u001b[0;34m\u001b[0m\u001b[0;34m\u001b[0m\u001b[0m\n\u001b[1;32m      7\u001b[0m \u001b[0mprint\u001b[0m\u001b[0;34m(\u001b[0m\u001b[0;34m\"after changing : \"\u001b[0m\u001b[0;34m,\u001b[0m\u001b[0mlist\u001b[0m\u001b[0;34m)\u001b[0m\u001b[0;34m\u001b[0m\u001b[0;34m\u001b[0m\u001b[0m\n\u001b[0;32m----> 8\u001b[0;31m \u001b[0mtuple\u001b[0m\u001b[0;34m[\u001b[0m\u001b[0;36m0\u001b[0m\u001b[0;34m]\u001b[0m \u001b[0;34m=\u001b[0m \u001b[0;36m5\u001b[0m\u001b[0;34m\u001b[0m\u001b[0;34m\u001b[0m\u001b[0m\n\u001b[0m\u001b[1;32m      9\u001b[0m \u001b[0mprint\u001b[0m\u001b[0;34m(\u001b[0m\u001b[0;34m\"after changing :\"\u001b[0m\u001b[0;34m,\u001b[0m\u001b[0mtuple\u001b[0m\u001b[0;34m)\u001b[0m\u001b[0;34m\u001b[0m\u001b[0;34m\u001b[0m\u001b[0m\n",
            "\u001b[0;31mTypeError\u001b[0m: 'tuple' object does not support item assignment"
          ]
        }
      ]
    },
    {
      "cell_type": "code",
      "source": [
        "# 6. Write a function to demonstrate the behavior of mutable and immutable arguments ?\n"
      ],
      "metadata": {
        "id": "RgqlLU4IQ-od"
      },
      "execution_count": null,
      "outputs": []
    },
    {
      "cell_type": "code",
      "source": [
        "# 7. Write a program that performs basic arithmetic operations on two user-input numbers ?\n",
        "num1 = int(input(\"enter first number\"))\n",
        "num2 = int(input(\"enter second number\"))\n",
        "c = num1 + num2\n",
        "print(\"values after addition :\",a)\n",
        "b = num1 - num2\n",
        "print(\"values after substraction :\",b)\n",
        "d = num1 / num2\n",
        "print(\"values after division :\",d)\n"
      ],
      "metadata": {
        "colab": {
          "base_uri": "https://localhost:8080/"
        },
        "id": "Z7HpMhlLQ-Wy",
        "outputId": "7dc121c8-b926-4590-8af7-0bf37fe697af"
      },
      "execution_count": null,
      "outputs": [
        {
          "output_type": "stream",
          "name": "stdout",
          "text": [
            "enter first number 60\n",
            "enter second number 4\n",
            "values after addition : 15\n",
            "values after substraction : 56\n",
            "values after division : 15.0\n"
          ]
        }
      ]
    },
    {
      "cell_type": "code",
      "source": [
        "# 8.Write a program to demonstrate the use of logical operators ?\n",
        "num1 = 56\n",
        "num2 = 5\n",
        "if num1>=0 and num2<=10 :\n",
        "  print(\"Both pass the condition\")\n",
        "elif num1>0 or num2>0 :\n",
        "  print(\"one of them pass the condition\")\n",
        "elif not num1<=0 :\n",
        "  print(\"print the the boolean answer\")\n",
        "else:\n",
        "  print(\"nothing\")"
      ],
      "metadata": {
        "colab": {
          "base_uri": "https://localhost:8080/"
        },
        "id": "y9vvixcvTuAs",
        "outputId": "e1159933-bda1-4667-a69f-d24132b9c6fb"
      },
      "execution_count": 1,
      "outputs": [
        {
          "output_type": "stream",
          "name": "stdout",
          "text": [
            "Both pass the condition\n"
          ]
        }
      ]
    },
    {
      "cell_type": "code",
      "source": [
        "# 9 Write a Python program to convert user input from string to integer, float, and boolean types ?\n",
        "user_input = input(\"Enter a value: \")\n",
        "int_value = int(user_input)\n",
        "print(\"integer:\",int_value)\n",
        "float_value = float(user_input)\n",
        "print(\"Float:\",float_value)\n",
        "bool_value = bool(user_input)\n",
        "print(\"boolean\",bool_value)"
      ],
      "metadata": {
        "colab": {
          "base_uri": "https://localhost:8080/"
        },
        "id": "PJNPrkHTYsSB",
        "outputId": "09c44e8b-e4a4-43ed-b008-d7f742c62175"
      },
      "execution_count": 5,
      "outputs": [
        {
          "output_type": "stream",
          "name": "stdout",
          "text": [
            "Enter a value:  344\n",
            "integer: 344\n",
            "Float: 344.0\n",
            "boolean True\n"
          ]
        }
      ]
    },
    {
      "cell_type": "code",
      "source": [
        "# 10.Write code to demonstrate type casting with list elements ?\n",
        "list_1 = [\"1\",\"2\",\"4\",\"7\",\"9\"]\n",
        "print(\"original list:\",list_1)\n",
        "print(\"Type of first elements:\",type(list_1[0]))\n",
        "int_list = []\n",
        "for item in list_1:\n",
        "  int_list.append(int(item))\n",
        "print(\"new list integer:\",int_list)\n",
        "print(\"type of first element\",type(int_list[0]))"
      ],
      "metadata": {
        "colab": {
          "base_uri": "https://localhost:8080/"
        },
        "id": "DkJLD-M2ZDay",
        "outputId": "0026fa45-0016-4765-ce88-67c138a71caa"
      },
      "execution_count": 4,
      "outputs": [
        {
          "output_type": "stream",
          "name": "stdout",
          "text": [
            "original list: ['1', '2', '4', '7', '9']\n",
            "Type of first elements: <class 'str'>\n",
            "new list integer: [1, 2, 4, 7, 9]\n",
            "type of first element <class 'int'>\n"
          ]
        }
      ]
    },
    {
      "cell_type": "code",
      "source": [
        "# 11.Write a program that checks if a number is positive, negative, or zero ?\n",
        "num= int(input(\"enter a number\"))\n",
        "if num>0:\n",
        "  print(\"the number is positive\")\n",
        "elif num<0:\n",
        "  print(\"the number is negative\")\n",
        "else:\n",
        "  print(\"number is zero\")"
      ],
      "metadata": {
        "colab": {
          "base_uri": "https://localhost:8080/"
        },
        "id": "vg1fH1rwZJzs",
        "outputId": "4b3534ce-26fb-4090-f9a9-e6052238d77f"
      },
      "execution_count": 2,
      "outputs": [
        {
          "output_type": "stream",
          "name": "stdout",
          "text": [
            "enter a number -6\n",
            "the number is negative\n"
          ]
        }
      ]
    },
    {
      "cell_type": "code",
      "source": [
        "# 12. Write a for loop to print numbers from 1 to 10 ?\n",
        "for i in range (1,10):\n",
        "  print(i)"
      ],
      "metadata": {
        "colab": {
          "base_uri": "https://localhost:8080/"
        },
        "id": "HvFac5-5ZUDk",
        "outputId": "eb888df6-80e0-4a77-930a-07b6356a1dfd"
      },
      "execution_count": 1,
      "outputs": [
        {
          "output_type": "stream",
          "name": "stdout",
          "text": [
            "1\n",
            "2\n",
            "3\n",
            "4\n",
            "5\n",
            "6\n",
            "7\n",
            "8\n",
            "9\n"
          ]
        }
      ]
    },
    {
      "cell_type": "code",
      "source": [
        "# 13.Write a Python program to find the sum of all even numbers between 1 and 50 ?\n",
        "total_sum = 0\n",
        "for number in range(1, 51):\n",
        "    if number % 2 == 0:\n",
        "        total_sum += number\n",
        "\n",
        "print(f\"The sum of all even numbers between 1 and 50 is: {total_sum}\")"
      ],
      "metadata": {
        "colab": {
          "base_uri": "https://localhost:8080/"
        },
        "id": "i_gHZsHxrubp",
        "outputId": "0cd5d8d8-62e8-4e61-e01b-c57722c668de"
      },
      "execution_count": 3,
      "outputs": [
        {
          "output_type": "stream",
          "name": "stdout",
          "text": [
            "The sum of all even numbers between 1 and 50 is: 650\n"
          ]
        }
      ]
    },
    {
      "cell_type": "code",
      "source": [
        "# 14.Write a program to reverse a string using a while loop ?\n",
        "text = input(\"Enter a string:\")\n",
        "reversed_text = \"\"\n",
        "index = len(text) - 1\n",
        "while index>=0:\n",
        "  reversed_text = reversed_text + text[index]\n",
        "  index = index-1\n",
        "  print(\"Reversed string:\",reversed_text)"
      ],
      "metadata": {
        "colab": {
          "base_uri": "https://localhost:8080/"
        },
        "id": "UQTCQCHTZeZI",
        "outputId": "6feddafe-1778-472b-b387-6fe4b31b0298"
      },
      "execution_count": 8,
      "outputs": [
        {
          "output_type": "stream",
          "name": "stdout",
          "text": [
            "Enter a string: hello\n",
            "Reversed string: o\n",
            "Reversed string: ol\n",
            "Reversed string: oll\n",
            "Reversed string: olle\n",
            "Reversed string: olleh\n",
            "Reversed string: olleh \n"
          ]
        }
      ]
    },
    {
      "cell_type": "code",
      "source": [
        "# 15.Write a Python program to calculate the factorial of a number provided by the user using a while loop ?\n",
        "num = int(input(\"Enter a number\"))\n",
        "factorial = 1\n",
        "i = 1\n",
        "while i<=num:\n",
        "  factorial = factorial * i\n",
        "  i = i+1\n",
        "  print(\"the factorial of \",num ,\"is\",factorial)"
      ],
      "metadata": {
        "colab": {
          "base_uri": "https://localhost:8080/"
        },
        "id": "bSJ8kFqlZj3T",
        "outputId": "b966b98a-3fd5-4f0c-80ec-d1e47c420500"
      },
      "execution_count": 6,
      "outputs": [
        {
          "output_type": "stream",
          "name": "stdout",
          "text": [
            "Enter a number12\n",
            "the factorial of  12 is 1\n",
            "the factorial of  12 is 2\n",
            "the factorial of  12 is 6\n",
            "the factorial of  12 is 24\n",
            "the factorial of  12 is 120\n",
            "the factorial of  12 is 720\n",
            "the factorial of  12 is 5040\n",
            "the factorial of  12 is 40320\n",
            "the factorial of  12 is 362880\n",
            "the factorial of  12 is 3628800\n",
            "the factorial of  12 is 39916800\n",
            "the factorial of  12 is 479001600\n"
          ]
        }
      ]
    }
  ]
}